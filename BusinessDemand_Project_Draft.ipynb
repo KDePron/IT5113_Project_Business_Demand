{
  "nbformat": 4,
  "nbformat_minor": 0,
  "metadata": {
    "colab": {
      "provenance": []
    },
    "kernelspec": {
      "name": "python3",
      "display_name": "Python 3"
    },
    "language_info": {
      "name": "python"
    }
  },
  "cells": [
    {
      "cell_type": "code",
      "source": [
        "# IT5113 Programming for Data Science\n",
        "# Final Project: Identifying Factors Affecting Business Demand\n",
        "# Kolby DePron, 10/6/2026"
      ],
      "metadata": {
        "id": "dPUPLoYcovQ1"
      },
      "execution_count": 1,
      "outputs": []
    },
    {
      "cell_type": "code",
      "source": [
        "from google.colab import files\n",
        "uploaded = files.upload()\n"
      ],
      "metadata": {
        "colab": {
          "base_uri": "https://localhost:8080/",
          "height": 90
        },
        "id": "zq3D_H-pedvl",
        "outputId": "da845490-7b52-4791-98b9-abcd6c95fb87"
      },
      "execution_count": 2,
      "outputs": [
        {
          "output_type": "display_data",
          "data": {
            "text/plain": [
              "<IPython.core.display.HTML object>"
            ],
            "text/html": [
              "\n",
              "     <input type=\"file\" id=\"files-0b236926-945c-4c60-85e8-6b208fbfb2b8\" name=\"files[]\" multiple disabled\n",
              "        style=\"border:none\" />\n",
              "     <output id=\"result-0b236926-945c-4c60-85e8-6b208fbfb2b8\">\n",
              "      Upload widget is only available when the cell has been executed in the\n",
              "      current browser session. Please rerun this cell to enable.\n",
              "      </output>\n",
              "      <script>// Copyright 2017 Google LLC\n",
              "//\n",
              "// Licensed under the Apache License, Version 2.0 (the \"License\");\n",
              "// you may not use this file except in compliance with the License.\n",
              "// You may obtain a copy of the License at\n",
              "//\n",
              "//      http://www.apache.org/licenses/LICENSE-2.0\n",
              "//\n",
              "// Unless required by applicable law or agreed to in writing, software\n",
              "// distributed under the License is distributed on an \"AS IS\" BASIS,\n",
              "// WITHOUT WARRANTIES OR CONDITIONS OF ANY KIND, either express or implied.\n",
              "// See the License for the specific language governing permissions and\n",
              "// limitations under the License.\n",
              "\n",
              "/**\n",
              " * @fileoverview Helpers for google.colab Python module.\n",
              " */\n",
              "(function(scope) {\n",
              "function span(text, styleAttributes = {}) {\n",
              "  const element = document.createElement('span');\n",
              "  element.textContent = text;\n",
              "  for (const key of Object.keys(styleAttributes)) {\n",
              "    element.style[key] = styleAttributes[key];\n",
              "  }\n",
              "  return element;\n",
              "}\n",
              "\n",
              "// Max number of bytes which will be uploaded at a time.\n",
              "const MAX_PAYLOAD_SIZE = 100 * 1024;\n",
              "\n",
              "function _uploadFiles(inputId, outputId) {\n",
              "  const steps = uploadFilesStep(inputId, outputId);\n",
              "  const outputElement = document.getElementById(outputId);\n",
              "  // Cache steps on the outputElement to make it available for the next call\n",
              "  // to uploadFilesContinue from Python.\n",
              "  outputElement.steps = steps;\n",
              "\n",
              "  return _uploadFilesContinue(outputId);\n",
              "}\n",
              "\n",
              "// This is roughly an async generator (not supported in the browser yet),\n",
              "// where there are multiple asynchronous steps and the Python side is going\n",
              "// to poll for completion of each step.\n",
              "// This uses a Promise to block the python side on completion of each step,\n",
              "// then passes the result of the previous step as the input to the next step.\n",
              "function _uploadFilesContinue(outputId) {\n",
              "  const outputElement = document.getElementById(outputId);\n",
              "  const steps = outputElement.steps;\n",
              "\n",
              "  const next = steps.next(outputElement.lastPromiseValue);\n",
              "  return Promise.resolve(next.value.promise).then((value) => {\n",
              "    // Cache the last promise value to make it available to the next\n",
              "    // step of the generator.\n",
              "    outputElement.lastPromiseValue = value;\n",
              "    return next.value.response;\n",
              "  });\n",
              "}\n",
              "\n",
              "/**\n",
              " * Generator function which is called between each async step of the upload\n",
              " * process.\n",
              " * @param {string} inputId Element ID of the input file picker element.\n",
              " * @param {string} outputId Element ID of the output display.\n",
              " * @return {!Iterable<!Object>} Iterable of next steps.\n",
              " */\n",
              "function* uploadFilesStep(inputId, outputId) {\n",
              "  const inputElement = document.getElementById(inputId);\n",
              "  inputElement.disabled = false;\n",
              "\n",
              "  const outputElement = document.getElementById(outputId);\n",
              "  outputElement.innerHTML = '';\n",
              "\n",
              "  const pickedPromise = new Promise((resolve) => {\n",
              "    inputElement.addEventListener('change', (e) => {\n",
              "      resolve(e.target.files);\n",
              "    });\n",
              "  });\n",
              "\n",
              "  const cancel = document.createElement('button');\n",
              "  inputElement.parentElement.appendChild(cancel);\n",
              "  cancel.textContent = 'Cancel upload';\n",
              "  const cancelPromise = new Promise((resolve) => {\n",
              "    cancel.onclick = () => {\n",
              "      resolve(null);\n",
              "    };\n",
              "  });\n",
              "\n",
              "  // Wait for the user to pick the files.\n",
              "  const files = yield {\n",
              "    promise: Promise.race([pickedPromise, cancelPromise]),\n",
              "    response: {\n",
              "      action: 'starting',\n",
              "    }\n",
              "  };\n",
              "\n",
              "  cancel.remove();\n",
              "\n",
              "  // Disable the input element since further picks are not allowed.\n",
              "  inputElement.disabled = true;\n",
              "\n",
              "  if (!files) {\n",
              "    return {\n",
              "      response: {\n",
              "        action: 'complete',\n",
              "      }\n",
              "    };\n",
              "  }\n",
              "\n",
              "  for (const file of files) {\n",
              "    const li = document.createElement('li');\n",
              "    li.append(span(file.name, {fontWeight: 'bold'}));\n",
              "    li.append(span(\n",
              "        `(${file.type || 'n/a'}) - ${file.size} bytes, ` +\n",
              "        `last modified: ${\n",
              "            file.lastModifiedDate ? file.lastModifiedDate.toLocaleDateString() :\n",
              "                                    'n/a'} - `));\n",
              "    const percent = span('0% done');\n",
              "    li.appendChild(percent);\n",
              "\n",
              "    outputElement.appendChild(li);\n",
              "\n",
              "    const fileDataPromise = new Promise((resolve) => {\n",
              "      const reader = new FileReader();\n",
              "      reader.onload = (e) => {\n",
              "        resolve(e.target.result);\n",
              "      };\n",
              "      reader.readAsArrayBuffer(file);\n",
              "    });\n",
              "    // Wait for the data to be ready.\n",
              "    let fileData = yield {\n",
              "      promise: fileDataPromise,\n",
              "      response: {\n",
              "        action: 'continue',\n",
              "      }\n",
              "    };\n",
              "\n",
              "    // Use a chunked sending to avoid message size limits. See b/62115660.\n",
              "    let position = 0;\n",
              "    do {\n",
              "      const length = Math.min(fileData.byteLength - position, MAX_PAYLOAD_SIZE);\n",
              "      const chunk = new Uint8Array(fileData, position, length);\n",
              "      position += length;\n",
              "\n",
              "      const base64 = btoa(String.fromCharCode.apply(null, chunk));\n",
              "      yield {\n",
              "        response: {\n",
              "          action: 'append',\n",
              "          file: file.name,\n",
              "          data: base64,\n",
              "        },\n",
              "      };\n",
              "\n",
              "      let percentDone = fileData.byteLength === 0 ?\n",
              "          100 :\n",
              "          Math.round((position / fileData.byteLength) * 100);\n",
              "      percent.textContent = `${percentDone}% done`;\n",
              "\n",
              "    } while (position < fileData.byteLength);\n",
              "  }\n",
              "\n",
              "  // All done.\n",
              "  yield {\n",
              "    response: {\n",
              "      action: 'complete',\n",
              "    }\n",
              "  };\n",
              "}\n",
              "\n",
              "scope.google = scope.google || {};\n",
              "scope.google.colab = scope.google.colab || {};\n",
              "scope.google.colab._files = {\n",
              "  _uploadFiles,\n",
              "  _uploadFilesContinue,\n",
              "};\n",
              "})(self);\n",
              "</script> "
            ]
          },
          "metadata": {}
        },
        {
          "output_type": "stream",
          "name": "stdout",
          "text": [
            "Saving US Superstore data.xls to US Superstore data.xls\n"
          ]
        }
      ]
    },
    {
      "cell_type": "code",
      "execution_count": 3,
      "metadata": {
        "colab": {
          "base_uri": "https://localhost:8080/"
        },
        "collapsed": true,
        "id": "aG2jvu2-dwaP",
        "outputId": "05669c8f-789b-4503-f468-f15c46dacc23"
      },
      "outputs": [
        {
          "output_type": "stream",
          "name": "stdout",
          "text": [
            "   Row ID        Order ID Order Date  Ship Date       Ship Mode Customer ID  \\\n",
            "0       1  CA-2016-152156 2016-11-08 2016-11-11    Second Class    CG-12520   \n",
            "1       2  CA-2016-152156 2016-11-08 2016-11-11    Second Class    CG-12520   \n",
            "2       3  CA-2016-138688 2016-06-12 2016-06-16    Second Class    DV-13045   \n",
            "3       4  US-2015-108966 2015-10-11 2015-10-18  Standard Class    SO-20335   \n",
            "4       5  US-2015-108966 2015-10-11 2015-10-18  Standard Class    SO-20335   \n",
            "\n",
            "     Customer Name    Segment        Country             City  ...  \\\n",
            "0      Claire Gute   Consumer  United States        Henderson  ...   \n",
            "1      Claire Gute   Consumer  United States        Henderson  ...   \n",
            "2  Darrin Van Huff  Corporate  United States      Los Angeles  ...   \n",
            "3   Sean O'Donnell   Consumer  United States  Fort Lauderdale  ...   \n",
            "4   Sean O'Donnell   Consumer  United States  Fort Lauderdale  ...   \n",
            "\n",
            "  Postal Code  Region       Product ID         Category Sub-Category  \\\n",
            "0       42420   South  FUR-BO-10001798        Furniture    Bookcases   \n",
            "1       42420   South  FUR-CH-10000454        Furniture       Chairs   \n",
            "2       90036    West  OFF-LA-10000240  Office Supplies       Labels   \n",
            "3       33311   South  FUR-TA-10000577        Furniture       Tables   \n",
            "4       33311   South  OFF-ST-10000760  Office Supplies      Storage   \n",
            "\n",
            "                                        Product Name     Sales  Quantity  \\\n",
            "0                  Bush Somerset Collection Bookcase  261.9600         2   \n",
            "1  Hon Deluxe Fabric Upholstered Stacking Chairs,...  731.9400         3   \n",
            "2  Self-Adhesive Address Labels for Typewriters b...   14.6200         2   \n",
            "3      Bretford CR4500 Series Slim Rectangular Table  957.5775         5   \n",
            "4                     Eldon Fold 'N Roll Cart System   22.3680         2   \n",
            "\n",
            "   Discount    Profit  \n",
            "0      0.00   41.9136  \n",
            "1      0.00  219.5820  \n",
            "2      0.00    6.8714  \n",
            "3      0.45 -383.0310  \n",
            "4      0.20    2.5164  \n",
            "\n",
            "[5 rows x 21 columns]\n",
            "<class 'pandas.core.frame.DataFrame'>\n",
            "RangeIndex: 9994 entries, 0 to 9993\n",
            "Data columns (total 21 columns):\n",
            " #   Column         Non-Null Count  Dtype         \n",
            "---  ------         --------------  -----         \n",
            " 0   Row ID         9994 non-null   int64         \n",
            " 1   Order ID       9994 non-null   object        \n",
            " 2   Order Date     9994 non-null   datetime64[ns]\n",
            " 3   Ship Date      9994 non-null   datetime64[ns]\n",
            " 4   Ship Mode      9994 non-null   object        \n",
            " 5   Customer ID    9994 non-null   object        \n",
            " 6   Customer Name  9994 non-null   object        \n",
            " 7   Segment        9994 non-null   object        \n",
            " 8   Country        9994 non-null   object        \n",
            " 9   City           9994 non-null   object        \n",
            " 10  State          9994 non-null   object        \n",
            " 11  Postal Code    9994 non-null   int64         \n",
            " 12  Region         9994 non-null   object        \n",
            " 13  Product ID     9994 non-null   object        \n",
            " 14  Category       9994 non-null   object        \n",
            " 15  Sub-Category   9994 non-null   object        \n",
            " 16  Product Name   9994 non-null   object        \n",
            " 17  Sales          9994 non-null   float64       \n",
            " 18  Quantity       9994 non-null   int64         \n",
            " 19  Discount       9994 non-null   float64       \n",
            " 20  Profit         9994 non-null   float64       \n",
            "dtypes: datetime64[ns](2), float64(3), int64(3), object(13)\n",
            "memory usage: 1.6+ MB\n",
            "None\n"
          ]
        }
      ],
      "source": [
        "import pandas as pd\n",
        "\n",
        "df = pd.read_excel(\"US Superstore data.xls\")\n",
        "\n",
        "print(df.head())\n",
        "print(df.info())\n"
      ]
    },
    {
      "cell_type": "code",
      "source": [
        "cols = ['Region', 'Segment', 'Category', 'Sales', 'Profit', 'Discount', 'Quantity']\n",
        "df = df[cols].dropna()\n",
        "\n",
        "print(df.shape)\n",
        "print(df.head(3))\n",
        "print(df.describe())\n",
        "print(df['Region'].value_counts())\n"
      ],
      "metadata": {
        "colab": {
          "base_uri": "https://localhost:8080/"
        },
        "collapsed": true,
        "id": "igfVBD8-ex6I",
        "outputId": "9cf0e86c-ac01-457e-9881-b689d56e2bb3"
      },
      "execution_count": 4,
      "outputs": [
        {
          "output_type": "stream",
          "name": "stdout",
          "text": [
            "(9994, 7)\n",
            "  Region    Segment         Category   Sales    Profit  Discount  Quantity\n",
            "0  South   Consumer        Furniture  261.96   41.9136       0.0         2\n",
            "1  South   Consumer        Furniture  731.94  219.5820       0.0         3\n",
            "2   West  Corporate  Office Supplies   14.62    6.8714       0.0         2\n",
            "              Sales       Profit     Discount     Quantity\n",
            "count   9994.000000  9994.000000  9994.000000  9994.000000\n",
            "mean     229.858001    28.656896     0.156203     3.789574\n",
            "std      623.245101   234.260108     0.206452     2.225110\n",
            "min        0.444000 -6599.978000     0.000000     1.000000\n",
            "25%       17.280000     1.728750     0.000000     2.000000\n",
            "50%       54.490000     8.666500     0.200000     3.000000\n",
            "75%      209.940000    29.364000     0.200000     5.000000\n",
            "max    22638.480000  8399.976000     0.800000    14.000000\n",
            "Region\n",
            "West       3203\n",
            "East       2848\n",
            "Central    2323\n",
            "South      1620\n",
            "Name: count, dtype: int64\n"
          ]
        }
      ]
    },
    {
      "cell_type": "code",
      "source": [
        "from scipy.stats import ttest_ind\n",
        "\n",
        "consumer = df[df['Segment'] == 'Consumer']['Sales']\n",
        "corporate = df[df['Segment'] == 'Corporate']['Sales']\n",
        "\n",
        "print(\"Group sizes: Consumer:\", len(consumer), \"Corporate:\", len(corporate))\n",
        "\n",
        "t_stat, p_val = ttest_ind(consumer, corporate, equal_var=False)\n",
        "print(f\"T-statistic = {t_stat:.3f}\")\n",
        "print(f\"P-value = {p_val:.4f}\")\n",
        "\n",
        "if p_val < 0.05:\n",
        "    print(\"Reject H0: There is a significant difference between Consumer and Corporate sales.\")\n",
        "else:\n",
        "    print(\"Fail to reject H0: No significant difference in average sales.\")\n"
      ],
      "metadata": {
        "colab": {
          "base_uri": "https://localhost:8080/"
        },
        "id": "IU7nIh1kgsPn",
        "outputId": "fb6e59ad-3d7f-49e4-a900-a312f51d4ff6"
      },
      "execution_count": 5,
      "outputs": [
        {
          "output_type": "stream",
          "name": "stdout",
          "text": [
            "Group sizes: Consumer: 5191 Corporate: 3020\n",
            "T-statistic = -0.742\n",
            "P-value = 0.4583\n",
            "Fail to reject H0: No significant difference in average sales.\n"
          ]
        }
      ]
    },
    {
      "cell_type": "code",
      "source": [
        "# run t-test to see if segments differ in sales\n",
        "def compare_segment_sales(df):\n",
        "    \"\"\"\n",
        "    Runs a two-sample t-test to compare average sales between\n",
        "    'Consumer' and 'Corporate' segments.\n",
        "\n",
        "    Args:\n",
        "        df (pd.DataFrame): Cleaned dataset with 'Segment' and 'Sales' columns.\n",
        "\n",
        "    Returns:\n",
        "        dict: A dictionary containing the t-statistic, p-value, and a short decision message.\n",
        "    \"\"\"\n",
        "\n",
        "    # make sure required columns are present\n",
        "    assert 'Segment' in df.columns and 'Sales' in df.columns, \"Missing required columns\"\n",
        "\n",
        "    # separate the two segment groups\n",
        "    consumer = df[df['Segment'] == 'Consumer']['Sales']\n",
        "    corporate = df[df['Segment'] == 'Corporate']['Sales']\n",
        "\n",
        "    # run the Welch's t-test (does not assume equal variances)\n",
        "    t_stat, p_val = ttest_ind(consumer, corporate, equal_var=False)\n",
        "\n",
        "    # print test results\n",
        "    print(f\"T-statistic = {t_stat:.3f}, P-value = {p_val:.4f}\")\n",
        "\n",
        "    # interpret result using alpha = 0.05\n",
        "    if p_val < 0.05:\n",
        "        decision = \"Reject H₀ → There is a significant difference in sales between segments.\"\n",
        "    else:\n",
        "        decision = \"Fail to reject H₀ → No significant difference found.\"\n",
        "\n",
        "    # return the results so they can be used later\n",
        "    return {\"t_stat\": t_stat, \"p_val\": p_val, \"decision\": decision}\n",
        "    print(decision)\n",
        "\n"
      ],
      "metadata": {
        "id": "kXgVIhL5hasg"
      },
      "execution_count": 6,
      "outputs": []
    },
    {
      "cell_type": "code",
      "source": [
        "# check if sales are different across regions\n",
        "def test_sales_by_region(df):\n",
        "    \"\"\"\n",
        "    Test if sales are different across regions using ANOVA.\n",
        "    \"\"\"\n",
        "\n",
        "    # make sure we have what we need\n",
        "    assert 'Region' in df.columns and 'Sales' in df.columns, \"Missing columns\"\n",
        "\n",
        "    # make groups for each region\n",
        "    east = df[df['Region'] == 'East']['Sales']\n",
        "    west = df[df['Region'] == 'West']['Sales']\n",
        "    central = df[df['Region'] == 'Central']['Sales']\n",
        "    south = df[df['Region'] == 'South']['Sales']\n",
        "\n",
        "    # run the ANOVA test\n",
        "    from scipy.stats import f_oneway\n",
        "    f_stat, p_val = f_oneway(east, west, central, south)\n",
        "\n",
        "    # print results so I can see them\n",
        "    print(f\"F = {f_stat:.3f}, p = {p_val:.4f}\")\n",
        "\n",
        "    # check if p < 0.05\n",
        "    if p_val < 0.05:\n",
        "        print(\"Reject H0 → At least one region has different average sales.\")\n",
        "    else:\n",
        "        print(\"Fail to reject H0 → Sales look similar across regions.\")\n",
        "\n",
        "    return f_stat, p_val\n"
      ],
      "metadata": {
        "id": "zVe4CG8Zh5J3"
      },
      "execution_count": 7,
      "outputs": []
    },
    {
      "cell_type": "code",
      "source": [
        "# check how discount affects profit\n",
        "def check_discount_profit(df):\n",
        "    \"\"\"Run a quick linear regression to see if discounts affect profit.\"\"\"\n",
        "\n",
        "    # make sure we don't have missing values\n",
        "    df = df.dropna(subset=['Discount', 'Profit'])\n",
        "\n",
        "    # set up the data\n",
        "    X = df[['Discount']]\n",
        "    y = df['Profit']\n",
        "\n",
        "    # make the model and fit it\n",
        "    from sklearn.linear_model import LinearRegression\n",
        "    model = LinearRegression()\n",
        "    model.fit(X, y)\n",
        "\n",
        "    # get results\n",
        "    coef = model.coef_[0]\n",
        "    intercept = model.intercept_\n",
        "    r2 = model.score(X, y)\n",
        "\n",
        "    # print results in a simple way\n",
        "    print(\"Coefficient:\", round(coef, 3))\n",
        "    print(\"Intercept:\", round(intercept, 3))\n",
        "    print(\"R²:\", round(r2, 3))\n",
        "\n",
        "    # quick interpretation\n",
        "    if coef < 0:\n",
        "        print(\"As discount increases, profit goes down.\")\n",
        "    else:\n",
        "        print(\"As discount increases, profit goes up.\")\n",
        "\n",
        "    return coef, intercept, r2\n"
      ],
      "metadata": {
        "id": "DPNVmUl8jW7g"
      },
      "execution_count": 8,
      "outputs": []
    },
    {
      "cell_type": "code",
      "source": [
        "def main():\n",
        "    \"\"\"Run all analyses and print summaries.\"\"\"\n",
        "    print(\"1️) Comparing sales by segment:\")\n",
        "    seg_results = compare_segment_sales(df)\n",
        "\n",
        "    print(\"\\n2️) Testing regional differences:\")\n",
        "    reg_results = test_sales_by_region(df)\n",
        "\n",
        "    print(\"\\n3️) Checking discount–profit relationship:\")\n",
        "    reg_model = check_discount_profit(df)\n",
        "\n",
        "    print(\"\\nDone. See printed results for interpretation.\")\n"
      ],
      "metadata": {
        "id": "bW7AkWsVlEU5"
      },
      "execution_count": 9,
      "outputs": []
    },
    {
      "cell_type": "code",
      "source": [
        "# These are vizualizaton for my project report\n",
        "\n",
        "\n",
        "import seaborn as sns\n",
        "import matplotlib.pyplot as plt\n",
        "\n",
        "sns.boxplot(x='Segment', y='Sales', data=df)\n",
        "plt.title('Sales by Segment')\n",
        "plt.show()\n",
        "\n",
        "sns.barplot(x='Region', y='Sales', data=df, estimator='mean')\n",
        "plt.title('Average Sales by Region')\n",
        "plt.show()\n",
        "\n",
        "sns.scatterplot(x='Discount', y='Profit', data=df)\n",
        "plt.title('Discount vs Profit')\n",
        "plt.show()\n"
      ],
      "metadata": {
        "colab": {
          "base_uri": "https://localhost:8080/",
          "height": 1000
        },
        "id": "AJiG8krfjj1X",
        "outputId": "98cc3346-8433-462d-84b6-f63edfc54b3f",
        "collapsed": true
      },
      "execution_count": 10,
      "outputs": [
        {
          "output_type": "display_data",
          "data": {
            "text/plain": [
              "<Figure size 640x480 with 1 Axes>"
            ],
            "image/png": "[encoded data removed]"
          },
          "metadata": {}
        },
        {
          "output_type": "display_data",
          "data": {
            "text/plain": [
              "<Figure size 640x480 with 1 Axes>"
            ],
            "image/png": "[encoded data removed]"
          },
          "metadata": {}
        },
        {
          "output_type": "display_data",
          "data": {
            "text/plain": [
              "<Figure size 640x480 with 1 Axes>"
            ],
            "image/png": "[encoded data removed]"
          },
          "metadata": {}
        }
      ]
    },
    {
      "cell_type": "code",
      "source": [
        "# run all tests and print summaries\n",
        "\n",
        "def main():\n",
        "    \"\"\"Run all analyses and print results in order.\"\"\"\n",
        "\n",
        "    print(\"Comparing sales by segment:\")\n",
        "    compare_segment_sales(df)\n",
        "\n",
        "    print(\"\\nTesting regional differences:\")\n",
        "    test_sales_by_region(df)\n",
        "\n",
        "    print(\"\\nChecking discount-profit relationship:\")\n",
        "    check_discount_profit(df)\n",
        "\n",
        "    print(\"\\nAnalysis complete. See printed results above.\")\n",
        "\n",
        "main()"
      ],
      "metadata": {
        "colab": {
          "base_uri": "https://localhost:8080/"
        },
        "id": "lVKaMLeNdMSm",
        "outputId": "b45b488c-b47f-4071-9f98-0b8a181a410b"
      },
      "execution_count": 11,
      "outputs": [
        {
          "output_type": "stream",
          "name": "stdout",
          "text": [
            "Comparing sales by segment:\n",
            "T-statistic = -0.742, P-value = 0.4583\n",
            "\n",
            "Testing regional differences:\n",
            "F = 0.801, p = 0.4933\n",
            "Fail to reject H0 → Sales look similar across regions.\n",
            "\n",
            "Checking discount-profit relationship:\n",
            "Coefficient: -249.051\n",
            "Intercept: 67.559\n",
            "R²: 0.048\n",
            "As discount increases, profit goes down.\n",
            "\n",
            "Analysis complete. See printed results above.\n"
          ]
        }
      ]
    }
  ]
}